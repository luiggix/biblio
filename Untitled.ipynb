{
 "cells": [
  {
   "cell_type": "code",
   "execution_count": 1,
   "id": "5d824a45-29ff-454f-be77-7f8045dc1923",
   "metadata": {},
   "outputs": [],
   "source": [
    "import biblio"
   ]
  },
  {
   "cell_type": "code",
   "execution_count": 2,
   "id": "c0fe2b19-af6c-4a75-93e7-99b618396eb9",
   "metadata": {},
   "outputs": [
    {
     "data": {
      "text/plain": [
       "11"
      ]
     },
     "execution_count": 2,
     "metadata": {},
     "output_type": "execute_result"
    }
   ],
   "source": [
    "biblio.mod1.add(5,6)"
   ]
  },
  {
   "cell_type": "code",
   "execution_count": null,
   "id": "48dd5c4b-da82-495d-8abc-847f328b7e74",
   "metadata": {},
   "outputs": [],
   "source": [
    "import importlib.resources as pkg_resources\n",
    "\n",
    "data_path = pkg_resources.files(\"biblio\").joinpath(\"../resources/archivo.c\")\n",
    "\n",
    "with open(data_path, \"r\") as file:\n",
    "    content = file.read()\n",
    "\n",
    "print(content)"
   ]
  }
 ],
 "metadata": {
  "kernelspec": {
   "display_name": "Python 3 (ipykernel)",
   "language": "python",
   "name": "python3"
  },
  "language_info": {
   "codemirror_mode": {
    "name": "ipython",
    "version": 3
   },
   "file_extension": ".py",
   "mimetype": "text/x-python",
   "name": "python",
   "nbconvert_exporter": "python",
   "pygments_lexer": "ipython3",
   "version": "3.12.3"
  }
 },
 "nbformat": 4,
 "nbformat_minor": 5
}
